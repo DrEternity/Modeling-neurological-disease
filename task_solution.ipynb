{
  "nbformat": 4,
  "nbformat_minor": 0,
  "metadata": {
    "colab": {
      "name": "чистовик",
      "provenance": [],
      "collapsed_sections": []
    },
    "kernelspec": {
      "name": "python3",
      "display_name": "Python 3"
    },
    "language_info": {
      "name": "python"
    }
  },
  "cells": [
    {
      "cell_type": "code",
      "source": [
        "from google.colab import drive\n",
        "drive.mount('/content/drive')"
      ],
      "metadata": {
        "colab": {
          "base_uri": "https://localhost:8080/"
        },
        "id": "-5GqH_P-IUDi",
        "outputId": "d4eb438d-e506-4f72-dcbc-1c3070b00a99"
      },
      "execution_count": 1,
      "outputs": [
        {
          "output_type": "stream",
          "name": "stdout",
          "text": [
            "Mounted at /content/drive\n"
          ]
        }
      ]
    },
    {
      "cell_type": "code",
      "source": [
        "cd ./drive/MyDrive"
      ],
      "metadata": {
        "colab": {
          "base_uri": "https://localhost:8080/"
        },
        "id": "BP9haIJHjDMu",
        "outputId": "bb074a18-971b-4897-919f-12a6b63c6556"
      },
      "execution_count": 2,
      "outputs": [
        {
          "output_type": "stream",
          "name": "stdout",
          "text": [
            "/content/drive/MyDrive\n"
          ]
        }
      ]
    },
    {
      "cell_type": "code",
      "source": [
        "import sys\n",
        "import os\n",
        "py_file_location = \"/content/drive/My Drive\"\n",
        "sys.path.append(os.path.abspath(py_file_location))"
      ],
      "metadata": {
        "id": "DfJTjkTUi1BW"
      },
      "execution_count": 3,
      "outputs": []
    },
    {
      "cell_type": "code",
      "source": [
        "import warnings\n",
        "warnings.filterwarnings('ignore')\n",
        "import numpy as np\n",
        "from sklearn.model_selection import GridSearchCV\n",
        "import pandas as pd\n",
        "from sklearn.linear_model import LogisticRegression\n",
        "from sklearn.model_selection import train_test_split\n",
        "from sklearn.metrics import roc_auc_score\n",
        "import xgboost as xgb\n",
        "from sklearn.model_selection import cross_validate\n",
        "from sklearn.ensemble import RandomForestClassifier\n",
        "from sklearn.ensemble import RandomForestClassifier, AdaBoostClassifier\n",
        "from sklearn.model_selection import RandomizedSearchCV\n",
        "from sklearn.model_selection import KFold\n",
        "from sklearn.neighbors import KNeighborsClassifier\n",
        "from sklearn.preprocessing import StandardScaler\n",
        "from sklearn.neural_network import MLPClassifier\n",
        "from sklearn.pipeline import Pipeline\n",
        "from sklearn.base import BaseEstimator, TransformerMixin\n",
        "from sklearn.ensemble import StackingClassifier\n",
        "\n",
        "\n",
        "% matplotlib inline\n",
        "import matplotlib.pyplot as plt\n",
        "import numpy as np\n",
        "import pandas as pd\n",
        "import random_deletion\n",
        "import imputers\n",
        "import utils\n",
        "\n",
        "from importlib import reload\n"
      ],
      "metadata": {
        "id": "R4G6Q6niHwA6"
      },
      "execution_count": 153,
      "outputs": []
    },
    {
      "cell_type": "code",
      "source": [
        "reload(imputers)\n",
        "reload(utils)"
      ],
      "metadata": {
        "id": "9WeMcEokJFPL",
        "colab": {
          "base_uri": "https://localhost:8080/"
        },
        "outputId": "7e79c13c-930d-4bc2-8f27-0a28b02c3247"
      },
      "execution_count": 5,
      "outputs": [
        {
          "output_type": "execute_result",
          "data": {
            "text/plain": [
              "<module 'utils' from '/content/drive/MyDrive/utils.py'>"
            ]
          },
          "metadata": {},
          "execution_count": 5
        }
      ]
    },
    {
      "cell_type": "markdown",
      "source": [
        "# One-hot encoding и разделение данных на train и test"
      ],
      "metadata": {
        "id": "n-r4QkMaZfUH"
      }
    },
    {
      "cell_type": "code",
      "source": [
        "def code_myohe(data, feature):\n",
        "    for i in data[feature].unique():\n",
        "        data[feature + '=' + str(i)] = (data[feature] == i).astype(float)"
      ],
      "metadata": {
        "id": "s52Wr1u6C6bP"
      },
      "execution_count": 6,
      "outputs": []
    },
    {
      "cell_type": "code",
      "source": [
        "df = pd.read_excel(\"task.xlsx\")\n",
        "df = df.drop('num', axis = 1)\n",
        "df = df.replace(-1000.0, np.NaN)\n",
        "\n",
        "code_myohe(df, 'Пол')\n",
        "df = df.drop('Пол', axis = 1)\n",
        "code_myohe(df, 'Диагноз')\n",
        "df = df.drop('Диагноз', axis = 1)\n",
        "code_myohe(df, 'Аппетит')\n",
        "df = df.drop('Аппетит', axis = 1)\n",
        "code_myohe(df, 'Ожирение')\n",
        "df = df.drop('Ожирение', axis = 1)\n",
        "\n",
        "X = df.iloc[:, 1:]\n",
        "y = df.iloc[:, 0:1]\n",
        "X_train, X_test, y_train, y_test = train_test_split(X, y, test_size=0.25, random_state=6666)\n",
        "print(\"Пропуски в данных:\")\n",
        "df.isna().mean(axis=0)"
      ],
      "metadata": {
        "colab": {
          "base_uri": "https://localhost:8080/"
        },
        "id": "Qgo70jjioY8S",
        "outputId": "5e23d539-bbe4-4dbf-ebd1-4de2a8dffb5b"
      },
      "execution_count": 322,
      "outputs": [
        {
          "output_type": "stream",
          "name": "stdout",
          "text": [
            "Пропуски в данных:\n"
          ]
        },
        {
          "output_type": "execute_result",
          "data": {
            "text/plain": [
              "исход         0.000000\n",
              "Возраст       0.000000\n",
              "Длит.забол    0.000000\n",
              "V-талии       0.000000\n",
              "ИМТ-1         0.000000\n",
              "Глюкоза-1     0.000000\n",
              "Холест-1      0.000000\n",
              "Пролакт-1     0.006803\n",
              "Эстр-1        0.000000\n",
              "Тестост-1     0.156463\n",
              "Кортиз-1      0.006803\n",
              "ДГЭА-С-1      0.006803\n",
              "Триглиц-1     0.482993\n",
              "ЛПНП-1        0.517007\n",
              "ЛПВП-1        0.517007\n",
              "Пол=1         0.000000\n",
              "Пол=2         0.000000\n",
              "Диагноз=2     0.000000\n",
              "Диагноз=3     0.000000\n",
              "Диагноз=4     0.000000\n",
              "Диагноз=5     0.000000\n",
              "Диагноз=6     0.000000\n",
              "Диагноз=8     0.000000\n",
              "Диагноз=7     0.000000\n",
              "Диагноз=1     0.000000\n",
              "Аппетит=3     0.000000\n",
              "Аппетит=2     0.000000\n",
              "Аппетит=1     0.000000\n",
              "Ожирение=2    0.000000\n",
              "Ожирение=3    0.000000\n",
              "Ожирение=1    0.000000\n",
              "dtype: float64"
            ]
          },
          "metadata": {},
          "execution_count": 322
        }
      ]
    },
    {
      "cell_type": "markdown",
      "source": [
        "# Оценка важности признаков на тренировочнй выборке (без пропусков)"
      ],
      "metadata": {
        "id": "xEXtify8GUsm"
      }
    },
    {
      "cell_type": "code",
      "source": [
        "df_without_missing = X_train.copy()\n",
        "df_without_missing['исход'] = y_train.copy()\n",
        "X_train_without_missings = df_without_missing[X_train['Пролакт-1'].notna()]\n",
        "X_train_without_missings = X_train_without_missings[X_train_without_missings['Тестост-1'].notna()]\n",
        "X_train_without_missings = X_train_without_missings[X_train_without_missings['ДГЭА-С-1'].notna()]\n",
        "X_train_without_missings = X_train_without_missings[X_train_without_missings['Триглиц-1'].notna()]\n",
        "X_train_without_missings = X_train_without_missings[X_train_without_missings['ЛПНП-1'].notna()]\n",
        "X_train_without_missings = X_train_without_missings[X_train_without_missings['ЛПВП-1'].notna()]\n",
        "X_train_without_missings = X_train_without_missings[X_train_without_missings['Кортиз-1'].notna()]"
      ],
      "metadata": {
        "id": "saIU7vO03BVA"
      },
      "execution_count": 8,
      "outputs": []
    },
    {
      "cell_type": "code",
      "source": [
        "X_train_without_missings.columns # Тестост-1 == 8 # Триглиц-1 == 11 # ЛПНП-1 == 12 # ЛПВП-1 == 13"
      ],
      "metadata": {
        "colab": {
          "base_uri": "https://localhost:8080/"
        },
        "id": "fSBO-TIhgiOC",
        "outputId": "165d268a-1517-4637-8ef0-1ac3cb79dcdb"
      },
      "execution_count": 9,
      "outputs": [
        {
          "output_type": "execute_result",
          "data": {
            "text/plain": [
              "Index(['Возраст', 'Длит.забол', 'V-талии', 'ИМТ-1', 'Глюкоза-1', 'Холест-1',\n",
              "       'Пролакт-1', 'Эстр-1', 'Тестост-1', 'Кортиз-1', 'ДГЭА-С-1', 'Триглиц-1',\n",
              "       'ЛПНП-1', 'ЛПВП-1', 'Пол=1', 'Пол=2', 'Диагноз=2', 'Диагноз=3',\n",
              "       'Диагноз=4', 'Диагноз=5', 'Диагноз=6', 'Диагноз=8', 'Диагноз=7',\n",
              "       'Диагноз=1', 'Аппетит=3', 'Аппетит=2', 'Аппетит=1', 'Ожирение=2',\n",
              "       'Ожирение=3', 'Ожирение=1', 'исход'],\n",
              "      dtype='object')"
            ]
          },
          "metadata": {},
          "execution_count": 9
        }
      ]
    },
    {
      "cell_type": "code",
      "source": [
        "cv_results = cross_validate(xgb.XGBClassifier(eval_metric='mlogloss'), X_train_without_missings.iloc[:, :-1], X_train_without_missings.iloc[:, -1:], cv = 3, scoring='roc_auc')\n",
        "cv_results['test_score']"
      ],
      "metadata": {
        "colab": {
          "base_uri": "https://localhost:8080/"
        },
        "id": "xdD4pZX14Ls2",
        "outputId": "b6558916-a8c1-4452-dbac-f2187f22863c"
      },
      "execution_count": 10,
      "outputs": [
        {
          "output_type": "execute_result",
          "data": {
            "text/plain": [
              "array([0.66666667, 0.62121212, 0.62121212])"
            ]
          },
          "metadata": {},
          "execution_count": 10
        }
      ]
    },
    {
      "cell_type": "code",
      "source": [
        "clf = xgb.XGBClassifier(eval_metric='mlogloss').fit(X_train_without_missings.iloc[:, :-1], X_train_without_missings.iloc[:, -1:])\n",
        "print(clf.feature_importances_)\n",
        "xgb.plot_importance(clf)"
      ],
      "metadata": {
        "colab": {
          "base_uri": "https://localhost:8080/",
          "height": 401
        },
        "id": "Hk29SycA6AVT",
        "outputId": "efb25875-4196-4f14-d45d-8ea36e25991a"
      },
      "execution_count": null,
      "outputs": [
        {
          "output_type": "stream",
          "name": "stdout",
          "text": [
            "[0.05315413 0.21484838 0.08300649 0.04647695 0.03740726 0.06096957\n",
            " 0.03903607 0.0387449  0.01842745 0.05302382 0.05562946 0.02507614\n",
            " 0.04909533 0.08184084 0.0446944  0.         0.         0.\n",
            " 0.         0.         0.         0.         0.         0.\n",
            " 0.         0.03390538 0.00571212 0.         0.02337974 0.03557168]\n"
          ]
        },
        {
          "output_type": "execute_result",
          "data": {
            "text/plain": [
              "<matplotlib.axes._subplots.AxesSubplot at 0x7f68127f3310>"
            ]
          },
          "metadata": {},
          "execution_count": 59
        },
        {
          "output_type": "display_data",
          "data": {
            "image/png": "[encoded data removed]",
            "text/plain": [
              "<Figure size 432x288 with 1 Axes>"
            ]
          },
          "metadata": {
            "needs_background": "light"
          }
        }
      ]
    },
    {
      "cell_type": "markdown",
      "source": [
        "# Сравнение различных способов замен пропусков\n",
        "Я удаляю из X_train все объекты хотя бы с одним пропуском и делаю рандомизированные пропуски в данных. \n",
        "Затем провожу различные способы замен пропусков для определения лучших.\n",
        "\n",
        "Исследую зависимость среднеквадратичного отклонения между восстановленными\n",
        "и истинными данными от доли пропущенных значений (RMSE).\n",
        "\n",
        "И зависимость точности классификации от доли пропущенных значений (ROC_AUC).\n",
        "\n",
        "Я провёл такие же эксперименты как в курсовой работе студента ММП 2016\n",
        "http://www.machinelearning.ru/wiki/images/9/90/Kayumov_course_work_imputer_methods.pdf\n"
      ],
      "metadata": {
        "id": "O3PSlAjJKI1Q"
      }
    },
    {
      "cell_type": "code",
      "source": [
        "X = X_train_without_missings.iloc[:, :-1]\n",
        "y = X_train_without_missings.iloc[:, -1:]"
      ],
      "metadata": {
        "id": "-tSJSxPgJcbx"
      },
      "execution_count": null,
      "outputs": []
    },
    {
      "cell_type": "code",
      "source": [
        "algorithms = [\n",
        "    ('xgb', xgb.XGBClassifier(eval_metric='mlogloss')),\n",
        "    ('lr', LogisticRegression(C=1.0, penalty='l2'))\n",
        "]\n",
        "\n",
        "X = np.array(X, dtype='float')\n",
        "y  = np.array(y)\n",
        "\n",
        "X_del_columns =  [11, 12, 13] # Триглиц-1 == 11 # ЛПНП-1 == 12 # ЛПВП-1 == 13"
      ],
      "metadata": {
        "id": "wfq4-Tv2Jceg"
      },
      "execution_count": null,
      "outputs": []
    },
    {
      "cell_type": "code",
      "source": [
        "def checker(algo):\n",
        "    if algo[0] != 'xgb':\n",
        "        return 0\n",
        "    else:\n",
        "        return -1\n",
        "\n",
        "answer = {}\n",
        "missing_frac_range = [0.051]\n",
        "num_iter = 7\n",
        "for algo in algorithms:\n",
        "    rocauc_X_rf, rmse_X_rf = utils.make_experiments(X, y, algo[1], 4, missing_frac_range, \n",
        "                                                        num_iter=num_iter, sp_value=checker(algo), add_binary=False, \n",
        "                                                        del_columns = X_del_columns)\n",
        "    \n",
        "    rocauc_X_rf.drop('ignore', axis=0, inplace=True)\n",
        "    rmse_X_rf.drop('ignore', axis=0, inplace=True)\n",
        "    answer[algo[0]] = (rocauc_X_rf, rmse_X_rf)"
      ],
      "metadata": {
        "id": "AYM_edP0mmMq",
        "colab": {
          "base_uri": "https://localhost:8080/"
        },
        "outputId": "6729e187-d520-4a22-96cf-aed4f49b7153"
      },
      "execution_count": null,
      "outputs": [
        {
          "output_type": "stream",
          "name": "stdout",
          "text": [
            "start fraction: 0.051\n",
            "start fraction: 0.051\n"
          ]
        }
      ]
    },
    {
      "cell_type": "code",
      "source": [
        "answer['lr'][0]"
      ],
      "metadata": {
        "colab": {
          "base_uri": "https://localhost:8080/",
          "height": 347
        },
        "id": "_3E1kLyhlwi3",
        "outputId": "b393caf7-eac7-4079-988b-b2b8377233e3"
      },
      "execution_count": null,
      "outputs": [
        {
          "output_type": "execute_result",
          "data": {
            "text/html": [
              "\n",
              "  <div id=\"df-3bc5c1fc-f757-4b2e-bbc4-52db909f4c5b\">\n",
              "    <div class=\"colab-df-container\">\n",
              "      <div>\n",
              "<style scoped>\n",
              "    .dataframe tbody tr th:only-of-type {\n",
              "        vertical-align: middle;\n",
              "    }\n",
              "\n",
              "    .dataframe tbody tr th {\n",
              "        vertical-align: top;\n",
              "    }\n",
              "\n",
              "    .dataframe thead th {\n",
              "        text-align: right;\n",
              "    }\n",
              "</style>\n",
              "<table border=\"1\" class=\"dataframe\">\n",
              "  <thead>\n",
              "    <tr style=\"text-align: right;\">\n",
              "      <th></th>\n",
              "      <th>0.051</th>\n",
              "    </tr>\n",
              "  </thead>\n",
              "  <tbody>\n",
              "    <tr>\n",
              "      <th>special</th>\n",
              "      <td>0.649702</td>\n",
              "    </tr>\n",
              "    <tr>\n",
              "      <th>common</th>\n",
              "      <td>0.646032</td>\n",
              "    </tr>\n",
              "    <tr>\n",
              "      <th>mean</th>\n",
              "      <td>0.653671</td>\n",
              "    </tr>\n",
              "    <tr>\n",
              "      <th>svd</th>\n",
              "      <td>0.646726</td>\n",
              "    </tr>\n",
              "    <tr>\n",
              "      <th>knn</th>\n",
              "      <td>0.641964</td>\n",
              "    </tr>\n",
              "    <tr>\n",
              "      <th>rf</th>\n",
              "      <td>0.646825</td>\n",
              "    </tr>\n",
              "    <tr>\n",
              "      <th>lr</th>\n",
              "      <td>0.656052</td>\n",
              "    </tr>\n",
              "    <tr>\n",
              "      <th>em</th>\n",
              "      <td>0.653869</td>\n",
              "    </tr>\n",
              "    <tr>\n",
              "      <th>k-means</th>\n",
              "      <td>0.650298</td>\n",
              "    </tr>\n",
              "    <tr>\n",
              "      <th>zet</th>\n",
              "      <td>0.666964</td>\n",
              "    </tr>\n",
              "  </tbody>\n",
              "</table>\n",
              "</div>\n",
              "      <button class=\"colab-df-convert\" onclick=\"convertToInteractive('df-3bc5c1fc-f757-4b2e-bbc4-52db909f4c5b')\"\n",
              "              title=\"Convert this dataframe to an interactive table.\"\n",
              "              style=\"display:none;\">\n",
              "        \n",
              "  <svg xmlns=\"http://www.w3.org/2000/svg\" height=\"24px\"viewBox=\"0 0 24 24\"\n",
              "       width=\"24px\">\n",
              "    <path d=\"M0 0h24v24H0V0z\" fill=\"none\"/>\n",
              "    <path d=\"M18.56 5.44l.94 2.06.94-2.06 2.06-.94-2.06-.94-.94-2.06-.94 2.06-2.06.94zm-11 1L8.5 8.5l.94-2.06 2.06-.94-2.06-.94L8.5 2.5l-.94 2.06-2.06.94zm10 10l.94 2.06.94-2.06 2.06-.94-2.06-.94-.94-2.06-.94 2.06-2.06.94z\"/><path d=\"M17.41 7.96l-1.37-1.37c-.4-.4-.92-.59-1.43-.59-.52 0-1.04.2-1.43.59L10.3 9.45l-7.72 7.72c-.78.78-.78 2.05 0 2.83L4 21.41c.39.39.9.59 1.41.59.51 0 1.02-.2 1.41-.59l7.78-7.78 2.81-2.81c.8-.78.8-2.07 0-2.86zM5.41 20L4 18.59l7.72-7.72 1.47 1.35L5.41 20z\"/>\n",
              "  </svg>\n",
              "      </button>\n",
              "      \n",
              "  <style>\n",
              "    .colab-df-container {\n",
              "      display:flex;\n",
              "      flex-wrap:wrap;\n",
              "      gap: 12px;\n",
              "    }\n",
              "\n",
              "    .colab-df-convert {\n",
              "      background-color: #E8F0FE;\n",
              "      border: none;\n",
              "      border-radius: 50%;\n",
              "      cursor: pointer;\n",
              "      display: none;\n",
              "      fill: #1967D2;\n",
              "      height: 32px;\n",
              "      padding: 0 0 0 0;\n",
              "      width: 32px;\n",
              "    }\n",
              "\n",
              "    .colab-df-convert:hover {\n",
              "      background-color: #E2EBFA;\n",
              "      box-shadow: 0px 1px 2px rgba(60, 64, 67, 0.3), 0px 1px 3px 1px rgba(60, 64, 67, 0.15);\n",
              "      fill: #174EA6;\n",
              "    }\n",
              "\n",
              "    [theme=dark] .colab-df-convert {\n",
              "      background-color: #3B4455;\n",
              "      fill: #D2E3FC;\n",
              "    }\n",
              "\n",
              "    [theme=dark] .colab-df-convert:hover {\n",
              "      background-color: #434B5C;\n",
              "      box-shadow: 0px 1px 3px 1px rgba(0, 0, 0, 0.15);\n",
              "      filter: drop-shadow(0px 1px 2px rgba(0, 0, 0, 0.3));\n",
              "      fill: #FFFFFF;\n",
              "    }\n",
              "  </style>\n",
              "\n",
              "      <script>\n",
              "        const buttonEl =\n",
              "          document.querySelector('#df-3bc5c1fc-f757-4b2e-bbc4-52db909f4c5b button.colab-df-convert');\n",
              "        buttonEl.style.display =\n",
              "          google.colab.kernel.accessAllowed ? 'block' : 'none';\n",
              "\n",
              "        async function convertToInteractive(key) {\n",
              "          const element = document.querySelector('#df-3bc5c1fc-f757-4b2e-bbc4-52db909f4c5b');\n",
              "          const dataTable =\n",
              "            await google.colab.kernel.invokeFunction('convertToInteractive',\n",
              "                                                     [key], {});\n",
              "          if (!dataTable) return;\n",
              "\n",
              "          const docLinkHtml = 'Like what you see? Visit the ' +\n",
              "            '<a target=\"_blank\" href=https://colab.research.google.com/notebooks/data_table.ipynb>data table notebook</a>'\n",
              "            + ' to learn more about interactive tables.';\n",
              "          element.innerHTML = '';\n",
              "          dataTable['output_type'] = 'display_data';\n",
              "          await google.colab.output.renderOutput(dataTable, element);\n",
              "          const docLink = document.createElement('div');\n",
              "          docLink.innerHTML = docLinkHtml;\n",
              "          element.appendChild(docLink);\n",
              "        }\n",
              "      </script>\n",
              "    </div>\n",
              "  </div>\n",
              "  "
            ],
            "text/plain": [
              "            0.051\n",
              "special  0.649702\n",
              "common   0.646032\n",
              "mean     0.653671\n",
              "svd      0.646726\n",
              "knn      0.641964\n",
              "rf       0.646825\n",
              "lr       0.656052\n",
              "em       0.653869\n",
              "k-means  0.650298\n",
              "zet      0.666964"
            ]
          },
          "metadata": {},
          "execution_count": 219
        }
      ]
    },
    {
      "cell_type": "code",
      "source": [
        "answer['xgb'][0]"
      ],
      "metadata": {
        "id": "7s6iE1Gmakg1",
        "colab": {
          "base_uri": "https://localhost:8080/",
          "height": 347
        },
        "outputId": "df761bd4-d618-405b-8b16-4eb51016c7de"
      },
      "execution_count": null,
      "outputs": [
        {
          "output_type": "execute_result",
          "data": {
            "text/html": [
              "\n",
              "  <div id=\"df-e548ddec-15e8-4214-a750-1cb71c8638e2\">\n",
              "    <div class=\"colab-df-container\">\n",
              "      <div>\n",
              "<style scoped>\n",
              "    .dataframe tbody tr th:only-of-type {\n",
              "        vertical-align: middle;\n",
              "    }\n",
              "\n",
              "    .dataframe tbody tr th {\n",
              "        vertical-align: top;\n",
              "    }\n",
              "\n",
              "    .dataframe thead th {\n",
              "        text-align: right;\n",
              "    }\n",
              "</style>\n",
              "<table border=\"1\" class=\"dataframe\">\n",
              "  <thead>\n",
              "    <tr style=\"text-align: right;\">\n",
              "      <th></th>\n",
              "      <th>0.051</th>\n",
              "    </tr>\n",
              "  </thead>\n",
              "  <tbody>\n",
              "    <tr>\n",
              "      <th>special</th>\n",
              "      <td>0.576984</td>\n",
              "    </tr>\n",
              "    <tr>\n",
              "      <th>common</th>\n",
              "      <td>0.571925</td>\n",
              "    </tr>\n",
              "    <tr>\n",
              "      <th>mean</th>\n",
              "      <td>0.585119</td>\n",
              "    </tr>\n",
              "    <tr>\n",
              "      <th>svd</th>\n",
              "      <td>0.588988</td>\n",
              "    </tr>\n",
              "    <tr>\n",
              "      <th>knn</th>\n",
              "      <td>0.610913</td>\n",
              "    </tr>\n",
              "    <tr>\n",
              "      <th>rf</th>\n",
              "      <td>0.613790</td>\n",
              "    </tr>\n",
              "    <tr>\n",
              "      <th>lr</th>\n",
              "      <td>0.590873</td>\n",
              "    </tr>\n",
              "    <tr>\n",
              "      <th>em</th>\n",
              "      <td>0.585317</td>\n",
              "    </tr>\n",
              "    <tr>\n",
              "      <th>k-means</th>\n",
              "      <td>0.589484</td>\n",
              "    </tr>\n",
              "    <tr>\n",
              "      <th>zet</th>\n",
              "      <td>0.596925</td>\n",
              "    </tr>\n",
              "  </tbody>\n",
              "</table>\n",
              "</div>\n",
              "      <button class=\"colab-df-convert\" onclick=\"convertToInteractive('df-e548ddec-15e8-4214-a750-1cb71c8638e2')\"\n",
              "              title=\"Convert this dataframe to an interactive table.\"\n",
              "              style=\"display:none;\">\n",
              "        \n",
              "  <svg xmlns=\"http://www.w3.org/2000/svg\" height=\"24px\"viewBox=\"0 0 24 24\"\n",
              "       width=\"24px\">\n",
              "    <path d=\"M0 0h24v24H0V0z\" fill=\"none\"/>\n",
              "    <path d=\"M18.56 5.44l.94 2.06.94-2.06 2.06-.94-2.06-.94-.94-2.06-.94 2.06-2.06.94zm-11 1L8.5 8.5l.94-2.06 2.06-.94-2.06-.94L8.5 2.5l-.94 2.06-2.06.94zm10 10l.94 2.06.94-2.06 2.06-.94-2.06-.94-.94-2.06-.94 2.06-2.06.94z\"/><path d=\"M17.41 7.96l-1.37-1.37c-.4-.4-.92-.59-1.43-.59-.52 0-1.04.2-1.43.59L10.3 9.45l-7.72 7.72c-.78.78-.78 2.05 0 2.83L4 21.41c.39.39.9.59 1.41.59.51 0 1.02-.2 1.41-.59l7.78-7.78 2.81-2.81c.8-.78.8-2.07 0-2.86zM5.41 20L4 18.59l7.72-7.72 1.47 1.35L5.41 20z\"/>\n",
              "  </svg>\n",
              "      </button>\n",
              "      \n",
              "  <style>\n",
              "    .colab-df-container {\n",
              "      display:flex;\n",
              "      flex-wrap:wrap;\n",
              "      gap: 12px;\n",
              "    }\n",
              "\n",
              "    .colab-df-convert {\n",
              "      background-color: #E8F0FE;\n",
              "      border: none;\n",
              "      border-radius: 50%;\n",
              "      cursor: pointer;\n",
              "      display: none;\n",
              "      fill: #1967D2;\n",
              "      height: 32px;\n",
              "      padding: 0 0 0 0;\n",
              "      width: 32px;\n",
              "    }\n",
              "\n",
              "    .colab-df-convert:hover {\n",
              "      background-color: #E2EBFA;\n",
              "      box-shadow: 0px 1px 2px rgba(60, 64, 67, 0.3), 0px 1px 3px 1px rgba(60, 64, 67, 0.15);\n",
              "      fill: #174EA6;\n",
              "    }\n",
              "\n",
              "    [theme=dark] .colab-df-convert {\n",
              "      background-color: #3B4455;\n",
              "      fill: #D2E3FC;\n",
              "    }\n",
              "\n",
              "    [theme=dark] .colab-df-convert:hover {\n",
              "      background-color: #434B5C;\n",
              "      box-shadow: 0px 1px 3px 1px rgba(0, 0, 0, 0.15);\n",
              "      filter: drop-shadow(0px 1px 2px rgba(0, 0, 0, 0.3));\n",
              "      fill: #FFFFFF;\n",
              "    }\n",
              "  </style>\n",
              "\n",
              "      <script>\n",
              "        const buttonEl =\n",
              "          document.querySelector('#df-e548ddec-15e8-4214-a750-1cb71c8638e2 button.colab-df-convert');\n",
              "        buttonEl.style.display =\n",
              "          google.colab.kernel.accessAllowed ? 'block' : 'none';\n",
              "\n",
              "        async function convertToInteractive(key) {\n",
              "          const element = document.querySelector('#df-e548ddec-15e8-4214-a750-1cb71c8638e2');\n",
              "          const dataTable =\n",
              "            await google.colab.kernel.invokeFunction('convertToInteractive',\n",
              "                                                     [key], {});\n",
              "          if (!dataTable) return;\n",
              "\n",
              "          const docLinkHtml = 'Like what you see? Visit the ' +\n",
              "            '<a target=\"_blank\" href=https://colab.research.google.com/notebooks/data_table.ipynb>data table notebook</a>'\n",
              "            + ' to learn more about interactive tables.';\n",
              "          element.innerHTML = '';\n",
              "          dataTable['output_type'] = 'display_data';\n",
              "          await google.colab.output.renderOutput(dataTable, element);\n",
              "          const docLink = document.createElement('div');\n",
              "          docLink.innerHTML = docLinkHtml;\n",
              "          element.appendChild(docLink);\n",
              "        }\n",
              "      </script>\n",
              "    </div>\n",
              "  </div>\n",
              "  "
            ],
            "text/plain": [
              "            0.051\n",
              "special  0.576984\n",
              "common   0.571925\n",
              "mean     0.585119\n",
              "svd      0.588988\n",
              "knn      0.610913\n",
              "rf       0.613790\n",
              "lr       0.590873\n",
              "em       0.585317\n",
              "k-means  0.589484\n",
              "zet      0.596925"
            ]
          },
          "metadata": {},
          "execution_count": 220
        }
      ]
    },
    {
      "cell_type": "markdown",
      "source": [
        "# Итог: Большинство методов замены показали очень схожие результаты, поэтому выбор лучшего остаётся на кросвалидацию с полным X_train"
      ],
      "metadata": {
        "id": "2M1kuTC3Izw-"
      }
    },
    {
      "cell_type": "code",
      "source": [
        "class Special_value(TransformerMixin, BaseEstimator):\n",
        "    '''A template for a custom transformer.'''\n",
        "    def __init__(self, special_value = -1):\n",
        "        self.special_value = special_value\n",
        "    def fit(self, X, y=None):\n",
        "        return self\n",
        "    def transform(self, X):\n",
        "        X = imputers.special_value_imputer(X, self.special_value, add_binary=False)\n",
        "        return X\n",
        "\n",
        "class Common_value_imputer(TransformerMixin, BaseEstimator):\n",
        "    '''A template for a custom transformer.'''\n",
        "    def __init__(self):\n",
        "        pass\n",
        "    def fit(self, X, y=None):\n",
        "        return self\n",
        "    def transform(self, X):\n",
        "        X = imputers.common_value_imputer(X, add_binary=False)\n",
        "        return X\n",
        "\n",
        "class Mean_value_imputer(TransformerMixin, BaseEstimator):\n",
        "    '''A template for a custom transformer.'''\n",
        "    def __init__(self):\n",
        "        pass\n",
        "    def fit(self, X, y=None):\n",
        "        return self\n",
        "    def transform(self, X):\n",
        "        X = imputers.mean_value_imputer(X, add_binary=False)\n",
        "        return X\n",
        "\n",
        "class Svd_imputer(TransformerMixin, BaseEstimator):\n",
        "    '''A template for a custom transformer.'''\n",
        "    def __init__(self):\n",
        "        pass\n",
        "    def fit(self, X, y=None):\n",
        "        return self\n",
        "    def transform(self, X):\n",
        "        X = imputers.svd_imputer(X, rank=X.shape[1] // 2, add_binary=False)\n",
        "        return X\n",
        "\n",
        "class Knn_imputer(TransformerMixin, BaseEstimator):\n",
        "    '''A template for a custom transformer.'''\n",
        "    def __init__(self, n_neighbors=5):\n",
        "        self.n_neighbors = n_neighbors\n",
        "    def fit(self, X, y=None):\n",
        "        return self\n",
        "    def transform(self, X):\n",
        "        X = imputers.knn_imputer(X, self.n_neighbors, add_binary=False)\n",
        "        return X\n",
        "\n",
        "class Rf_imputer(TransformerMixin, BaseEstimator):\n",
        "    '''A template for a custom transformer.'''\n",
        "    def __init__(self):\n",
        "        pass\n",
        "    def fit(self, X, y=None):\n",
        "        return self\n",
        "    def transform(self, X):\n",
        "        X = imputers.rf_imputer(X, add_binary=False)\n",
        "        return X\n",
        "\n",
        "class Linear_imputer(TransformerMixin, BaseEstimator):\n",
        "    '''A template for a custom transformer.'''\n",
        "    def __init__(self):\n",
        "        pass\n",
        "    def fit(self, X, y=None):\n",
        "        return self\n",
        "    def transform(self, X):\n",
        "        X = imputers.linear_imputer(X, add_binary=False)\n",
        "        return X\n",
        "\n",
        "class Em_imputer(TransformerMixin, BaseEstimator):\n",
        "    '''A template for a custom transformer.'''\n",
        "    def __init__(self):\n",
        "        pass\n",
        "    def fit(self, X, y=None):\n",
        "        return self\n",
        "    def transform(self, X):\n",
        "        X = imputers.em_imputer(X, add_binary=False)\n",
        "        return X\n",
        "\n",
        "class Kmean_imputer(TransformerMixin, BaseEstimator):\n",
        "    '''A template for a custom transformer.'''\n",
        "    def __init__(self):\n",
        "        pass\n",
        "    def fit(self, X, y=None):\n",
        "        return self\n",
        "    def transform(self, X):\n",
        "        X = imputers.kmean_imputer(X, add_binary=False)\n",
        "        return X\n",
        "\n",
        "class Zet_imputer(TransformerMixin, BaseEstimator):\n",
        "    '''A template for a custom transformer.'''\n",
        "    def __init__(self, competent_row_num=6, competent_col_num=4):\n",
        "        self.competent_row_num = competent_row_num\n",
        "        self.competent_col_num = competent_col_num\n",
        "    def fit(self, X, y=None):\n",
        "        return self\n",
        "    def transform(self, X):\n",
        "        X = imputers.zet_imputer(X, self.competent_row_num, self.competent_col_num, add_binary=False)\n",
        "        return X"
      ],
      "metadata": {
        "id": "_5euTn2ENt_5"
      },
      "execution_count": 8,
      "outputs": []
    },
    {
      "cell_type": "code",
      "source": [
        ""
      ],
      "metadata": {
        "id": "ptaZZ33Nio6C"
      },
      "execution_count": null,
      "outputs": []
    },
    {
      "cell_type": "markdown",
      "source": [
        "# Сравнение разных методов замена на кросс валидации"
      ],
      "metadata": {
        "id": "jnZ9ksWPipMC"
      }
    },
    {
      "cell_type": "code",
      "source": [
        "Imputers = [\n",
        "            ('special', Special_value()),\n",
        "            ('common', Common_value_imputer()),\n",
        "            ('mean', Mean_value_imputer()),\n",
        "            ('svd', Svd_imputer()),\n",
        "            ('knn', Knn_imputer()),\n",
        "            ('rf', Rf_imputer()),\n",
        "            ('lr', Linear_imputer()),\n",
        "            ('em', Em_imputer()),\n",
        "            ('k-means', Kmean_imputer()),\n",
        "            ('zet', Zet_imputer())\n",
        "]"
      ],
      "metadata": {
        "id": "zA4O8KZhd3tC"
      },
      "execution_count": 9,
      "outputs": []
    },
    {
      "cell_type": "code",
      "source": [
        "for i in Imputers:\n",
        "    parameters = {}\n",
        "    if i[0] == 'knn':\n",
        "        parameters = {\"knn__n_neighbors\" : [2, 3, 4, 5]}\n",
        "    if i[0] == 'special':\n",
        "        parameters = {\"special__special_value\" : [0, -1, -1000, 1000, 10000000, -10000000]}\n",
        "    if i[0] == 'zet':\n",
        "        parameters = {\"zet__competent_row_num\" : [6], \"zet__competent_col_num\" : [4]}\n",
        "    pipe_xgboost = Pipeline([\n",
        "                 i,\n",
        "                 ('xgb', xgb.XGBClassifier(eval_metric='mlogloss') )]\n",
        "                )\n",
        "    pipe_lr = Pipeline([\n",
        "                 i,\n",
        "                 ('logr', LogisticRegression(C=1.0, penalty='l2'))]\n",
        "                )\n",
        "    print(\"logr\", i[0])\n",
        "    clf = GridSearchCV(pipe_lr, parameters, cv = 10, scoring = 'roc_auc').fit(X_train.to_numpy(), y_train.to_numpy())\n",
        "    print(clf.cv_results_['mean_test_score'])\n",
        "    print(\"xgb\", i[0])\n",
        "    clf = GridSearchCV(pipe_xgboost, parameters, cv = 10, scoring = 'roc_auc').fit(X_train.to_numpy(), y_train.to_numpy())\n",
        "    print(clf.cv_results_['mean_test_score'])"
      ],
      "metadata": {
        "colab": {
          "base_uri": "https://localhost:8080/"
        },
        "id": "6xMugIzgftmS",
        "outputId": "ce0060c7-d9fe-4338-c460-5e768cfda103"
      },
      "execution_count": null,
      "outputs": [
        {
          "output_type": "stream",
          "name": "stdout",
          "text": [
            "logr special\n",
            "[0.66       0.67       0.66333333 0.67333333 0.71       0.75666667]\n",
            "xgb special\n",
            "[0.69666667 0.69666667 0.69666667 0.63666667 0.63666667 0.69666667]\n",
            "logr common\n",
            "[0.57666667]\n",
            "xgb common\n",
            "[0.49666667]\n",
            "logr mean\n",
            "[0.55666667]\n",
            "xgb mean\n",
            "[0.53]\n",
            "logr svd\n",
            "[0.56666667]\n",
            "xgb svd\n",
            "[0.52]\n",
            "logr knn\n",
            "[0.56666667 0.56333333 0.58333333 0.58      ]\n",
            "xgb knn\n",
            "[0.55       0.44333333 0.44333333 0.51666667]\n",
            "logr rf\n",
            "[0.57]\n",
            "xgb rf\n",
            "[0.57333333]\n",
            "logr lr\n",
            "[0.55666667]\n",
            "xgb lr\n",
            "[0.43333333]\n",
            "logr em\n",
            "[0.56333333]\n",
            "xgb em\n",
            "[0.58]\n",
            "logr k-means\n",
            "[0.54333333]\n",
            "xgb k-means\n",
            "[0.49]\n"
          ]
        }
      ]
    },
    {
      "cell_type": "markdown",
      "source": [
        "# Как видно из результатов, лучшей заменой для имеющихся алгоритмов является - специальное значение"
      ],
      "metadata": {
        "id": "LK5T1udEjtHL"
      }
    },
    {
      "cell_type": "markdown",
      "source": [
        "# Перебор гиперпараметров Решающих деревьев"
      ],
      "metadata": {
        "id": "dv_-WNzSkRjY"
      }
    },
    {
      "cell_type": "code",
      "source": [
        "pipe_xgboost = Pipeline([\n",
        "                 ('special', Special_value(-10000000)),\n",
        "                 ('xgb', xgb.XGBClassifier(eval_metric='mlogloss'))]\n",
        ")"
      ],
      "metadata": {
        "id": "MO1Ir0Iwi0MM"
      },
      "execution_count": 10,
      "outputs": []
    },
    {
      "cell_type": "code",
      "source": [
        "X_tr = X_train.to_numpy()\n",
        "y_tr = y_train.to_numpy()\n",
        "\n",
        "param_grid = {\n",
        "        'xgb__max_depth': [3, 4, 5, 6, 7, 8, 9, 10, 11, 12],\n",
        "        'xgb__min_child_weight': np.arange(0.0001, 0.5, 0.001),\n",
        "        'xgb__gamma': np.arange(0.0,40.0,0.005),\n",
        "        'xgb__learning_rate': np.arange(0.0005,0.3,0.0005),\n",
        "        'xgb__subsample': np.arange(0.01,1.0,0.01),\n",
        "        'xgb__colsample_bylevel': np.round(np.arange(0.1, 1.0, 0.01)),\n",
        "        'xgb__colsample_bytree': np.arange(0.1, 1.0, 0.01),\n",
        "}\n",
        "clf = RandomizedSearchCV(pipe_xgboost, param_grid, cv = 10, scoring = 'roc_auc', verbose=10, n_iter = 50000).fit(X_tr, y_tr)"
      ],
      "metadata": {
        "id": "w_Dsuw8PbcAR"
      },
      "execution_count": null,
      "outputs": []
    },
    {
      "cell_type": "code",
      "source": [
        "pd.Series(clf.cv_results_['mean_test_score'][clf.cv_results_['mean_test_score'] > 0.5]).hist(bins = 40)\n",
        "results = pd.DataFrame(clf.cv_results_)\n",
        "results.sort_values(by='rank_test_score', inplace=True)\n",
        "results.to_csv(\"results.csv\")\n",
        "results.iloc[0:10, :].loc[:, ['param_xgb__max_depth', 'param_xgb__min_child_weight','param_xgb__gamma', 'param_xgb__learning_rate', 'param_xgb__subsample', 'param_xgb__colsample_bylevel', 'param_xgb__colsample_bytree' , 'mean_test_score']]"
      ],
      "metadata": {
        "id": "ih7hhTzNwy6i",
        "colab": {
          "base_uri": "https://localhost:8080/",
          "height": 595
        },
        "outputId": "58bc6a37-2a0d-4b39-847a-034dc1778914"
      },
      "execution_count": 18,
      "outputs": [
        {
          "output_type": "execute_result",
          "data": {
            "text/html": [
              "\n",
              "  <div id=\"df-c62e1ce8-1b08-44e1-ab69-7169c1690242\">\n",
              "    <div class=\"colab-df-container\">\n",
              "      <div>\n",
              "<style scoped>\n",
              "    .dataframe tbody tr th:only-of-type {\n",
              "        vertical-align: middle;\n",
              "    }\n",
              "\n",
              "    .dataframe tbody tr th {\n",
              "        vertical-align: top;\n",
              "    }\n",
              "\n",
              "    .dataframe thead th {\n",
              "        text-align: right;\n",
              "    }\n",
              "</style>\n",
              "<table border=\"1\" class=\"dataframe\">\n",
              "  <thead>\n",
              "    <tr style=\"text-align: right;\">\n",
              "      <th></th>\n",
              "      <th>param_xgb__max_depth</th>\n",
              "      <th>param_xgb__min_child_weight</th>\n",
              "      <th>param_xgb__gamma</th>\n",
              "      <th>param_xgb__learning_rate</th>\n",
              "      <th>param_xgb__subsample</th>\n",
              "      <th>param_xgb__colsample_bylevel</th>\n",
              "      <th>param_xgb__colsample_bytree</th>\n",
              "      <th>mean_test_score</th>\n",
              "    </tr>\n",
              "  </thead>\n",
              "  <tbody>\n",
              "    <tr>\n",
              "      <th>30361</th>\n",
              "      <td>10</td>\n",
              "      <td>0.2071</td>\n",
              "      <td>7.545</td>\n",
              "      <td>0.2675</td>\n",
              "      <td>0.99</td>\n",
              "      <td>1.0</td>\n",
              "      <td>0.54</td>\n",
              "      <td>0.828333</td>\n",
              "    </tr>\n",
              "    <tr>\n",
              "      <th>40912</th>\n",
              "      <td>4</td>\n",
              "      <td>0.2831</td>\n",
              "      <td>12.14</td>\n",
              "      <td>0.0345</td>\n",
              "      <td>0.68</td>\n",
              "      <td>0.0</td>\n",
              "      <td>0.75</td>\n",
              "      <td>0.820000</td>\n",
              "    </tr>\n",
              "    <tr>\n",
              "      <th>4426</th>\n",
              "      <td>10</td>\n",
              "      <td>0.1881</td>\n",
              "      <td>9.455</td>\n",
              "      <td>0.1515</td>\n",
              "      <td>0.97</td>\n",
              "      <td>1.0</td>\n",
              "      <td>0.24</td>\n",
              "      <td>0.818333</td>\n",
              "    </tr>\n",
              "    <tr>\n",
              "      <th>17762</th>\n",
              "      <td>5</td>\n",
              "      <td>0.1861</td>\n",
              "      <td>8.1</td>\n",
              "      <td>0.2945</td>\n",
              "      <td>0.99</td>\n",
              "      <td>1.0</td>\n",
              "      <td>0.31</td>\n",
              "      <td>0.818333</td>\n",
              "    </tr>\n",
              "    <tr>\n",
              "      <th>42064</th>\n",
              "      <td>7</td>\n",
              "      <td>0.1391</td>\n",
              "      <td>9.25</td>\n",
              "      <td>0.119</td>\n",
              "      <td>0.99</td>\n",
              "      <td>1.0</td>\n",
              "      <td>0.56</td>\n",
              "      <td>0.818333</td>\n",
              "    </tr>\n",
              "    <tr>\n",
              "      <th>40306</th>\n",
              "      <td>6</td>\n",
              "      <td>0.4931</td>\n",
              "      <td>9.025</td>\n",
              "      <td>0.1635</td>\n",
              "      <td>0.99</td>\n",
              "      <td>1.0</td>\n",
              "      <td>0.54</td>\n",
              "      <td>0.818333</td>\n",
              "    </tr>\n",
              "    <tr>\n",
              "      <th>3161</th>\n",
              "      <td>4</td>\n",
              "      <td>0.1091</td>\n",
              "      <td>5.015</td>\n",
              "      <td>0.133</td>\n",
              "      <td>0.99</td>\n",
              "      <td>1.0</td>\n",
              "      <td>0.55</td>\n",
              "      <td>0.815000</td>\n",
              "    </tr>\n",
              "    <tr>\n",
              "      <th>46252</th>\n",
              "      <td>3</td>\n",
              "      <td>0.1771</td>\n",
              "      <td>12.595</td>\n",
              "      <td>0.135</td>\n",
              "      <td>0.7</td>\n",
              "      <td>0.0</td>\n",
              "      <td>0.76</td>\n",
              "      <td>0.813333</td>\n",
              "    </tr>\n",
              "    <tr>\n",
              "      <th>21437</th>\n",
              "      <td>12</td>\n",
              "      <td>0.1731</td>\n",
              "      <td>7.06</td>\n",
              "      <td>0.115</td>\n",
              "      <td>0.99</td>\n",
              "      <td>1.0</td>\n",
              "      <td>0.72</td>\n",
              "      <td>0.813333</td>\n",
              "    </tr>\n",
              "    <tr>\n",
              "      <th>10996</th>\n",
              "      <td>9</td>\n",
              "      <td>0.4261</td>\n",
              "      <td>6.84</td>\n",
              "      <td>0.272</td>\n",
              "      <td>0.98</td>\n",
              "      <td>1.0</td>\n",
              "      <td>0.74</td>\n",
              "      <td>0.813333</td>\n",
              "    </tr>\n",
              "  </tbody>\n",
              "</table>\n",
              "</div>\n",
              "      <button class=\"colab-df-convert\" onclick=\"convertToInteractive('df-c62e1ce8-1b08-44e1-ab69-7169c1690242')\"\n",
              "              title=\"Convert this dataframe to an interactive table.\"\n",
              "              style=\"display:none;\">\n",
              "        \n",
              "  <svg xmlns=\"http://www.w3.org/2000/svg\" height=\"24px\"viewBox=\"0 0 24 24\"\n",
              "       width=\"24px\">\n",
              "    <path d=\"M0 0h24v24H0V0z\" fill=\"none\"/>\n",
              "    <path d=\"M18.56 5.44l.94 2.06.94-2.06 2.06-.94-2.06-.94-.94-2.06-.94 2.06-2.06.94zm-11 1L8.5 8.5l.94-2.06 2.06-.94-2.06-.94L8.5 2.5l-.94 2.06-2.06.94zm10 10l.94 2.06.94-2.06 2.06-.94-2.06-.94-.94-2.06-.94 2.06-2.06.94z\"/><path d=\"M17.41 7.96l-1.37-1.37c-.4-.4-.92-.59-1.43-.59-.52 0-1.04.2-1.43.59L10.3 9.45l-7.72 7.72c-.78.78-.78 2.05 0 2.83L4 21.41c.39.39.9.59 1.41.59.51 0 1.02-.2 1.41-.59l7.78-7.78 2.81-2.81c.8-.78.8-2.07 0-2.86zM5.41 20L4 18.59l7.72-7.72 1.47 1.35L5.41 20z\"/>\n",
              "  </svg>\n",
              "      </button>\n",
              "      \n",
              "  <style>\n",
              "    .colab-df-container {\n",
              "      display:flex;\n",
              "      flex-wrap:wrap;\n",
              "      gap: 12px;\n",
              "    }\n",
              "\n",
              "    .colab-df-convert {\n",
              "      background-color: #E8F0FE;\n",
              "      border: none;\n",
              "      border-radius: 50%;\n",
              "      cursor: pointer;\n",
              "      display: none;\n",
              "      fill: #1967D2;\n",
              "      height: 32px;\n",
              "      padding: 0 0 0 0;\n",
              "      width: 32px;\n",
              "    }\n",
              "\n",
              "    .colab-df-convert:hover {\n",
              "      background-color: #E2EBFA;\n",
              "      box-shadow: 0px 1px 2px rgba(60, 64, 67, 0.3), 0px 1px 3px 1px rgba(60, 64, 67, 0.15);\n",
              "      fill: #174EA6;\n",
              "    }\n",
              "\n",
              "    [theme=dark] .colab-df-convert {\n",
              "      background-color: #3B4455;\n",
              "      fill: #D2E3FC;\n",
              "    }\n",
              "\n",
              "    [theme=dark] .colab-df-convert:hover {\n",
              "      background-color: #434B5C;\n",
              "      box-shadow: 0px 1px 3px 1px rgba(0, 0, 0, 0.15);\n",
              "      filter: drop-shadow(0px 1px 2px rgba(0, 0, 0, 0.3));\n",
              "      fill: #FFFFFF;\n",
              "    }\n",
              "  </style>\n",
              "\n",
              "      <script>\n",
              "        const buttonEl =\n",
              "          document.querySelector('#df-c62e1ce8-1b08-44e1-ab69-7169c1690242 button.colab-df-convert');\n",
              "        buttonEl.style.display =\n",
              "          google.colab.kernel.accessAllowed ? 'block' : 'none';\n",
              "\n",
              "        async function convertToInteractive(key) {\n",
              "          const element = document.querySelector('#df-c62e1ce8-1b08-44e1-ab69-7169c1690242');\n",
              "          const dataTable =\n",
              "            await google.colab.kernel.invokeFunction('convertToInteractive',\n",
              "                                                     [key], {});\n",
              "          if (!dataTable) return;\n",
              "\n",
              "          const docLinkHtml = 'Like what you see? Visit the ' +\n",
              "            '<a target=\"_blank\" href=https://colab.research.google.com/notebooks/data_table.ipynb>data table notebook</a>'\n",
              "            + ' to learn more about interactive tables.';\n",
              "          element.innerHTML = '';\n",
              "          dataTable['output_type'] = 'display_data';\n",
              "          await google.colab.output.renderOutput(dataTable, element);\n",
              "          const docLink = document.createElement('div');\n",
              "          docLink.innerHTML = docLinkHtml;\n",
              "          element.appendChild(docLink);\n",
              "        }\n",
              "      </script>\n",
              "    </div>\n",
              "  </div>\n",
              "  "
            ],
            "text/plain": [
              "      param_xgb__max_depth  ... mean_test_score\n",
              "30361                   10  ...        0.828333\n",
              "40912                    4  ...        0.820000\n",
              "4426                    10  ...        0.818333\n",
              "17762                    5  ...        0.818333\n",
              "42064                    7  ...        0.818333\n",
              "40306                    6  ...        0.818333\n",
              "3161                     4  ...        0.815000\n",
              "46252                    3  ...        0.813333\n",
              "21437                   12  ...        0.813333\n",
              "10996                    9  ...        0.813333\n",
              "\n",
              "[10 rows x 8 columns]"
            ]
          },
          "metadata": {},
          "execution_count": 18
        },
        {
          "output_type": "display_data",
          "data": {
            "image/png": "[encoded data removed]",
            "text/plain": [
              "<Figure size 432x288 with 1 Axes>"
            ]
          },
          "metadata": {
            "needs_background": "light"
          }
        }
      ]
    },
    {
      "cell_type": "code",
      "source": [
        "best = np.argsort(clf.cv_results_['rank_test_score'])\n",
        "best_estimators = np.array(clf.cv_results_['params'])[best]\n",
        "for i in range(0, len(best_estimators)):\n",
        "    first = best_estimators[i]\n",
        "    first['colsample_bylevel'] = first.pop('xgb__colsample_bylevel')\n",
        "    first['colsample_bytree'] = first.pop('xgb__colsample_bytree')\n",
        "    first['gamma'] = first.pop('xgb__gamma')\n",
        "    first['learning_rate'] = first.pop('xgb__learning_rate')\n",
        "    first['max_depth'] = first.pop('xgb__max_depth')\n",
        "    first['min_child_weight'] = first.pop('xgb__min_child_weight')\n",
        "    first['subsample'] = first.pop('xgb__subsample')\n"
      ],
      "metadata": {
        "id": "K4XWzq5co39O"
      },
      "execution_count": 79,
      "outputs": []
    },
    {
      "cell_type": "code",
      "source": [
        "scores = []\n",
        "best = np.argsort(clf.cv_results_['rank_test_score'])\n",
        "best_estimators = np.array(clf.cv_results_['params'])[best]\n",
        "for i in range(0,15000):\n",
        "    print(i)\n",
        "    first = best_estimators[i]\n",
        "    pipe_xgboost_ = Pipeline([\n",
        "                    ('special', Special_value(-10000000)),\n",
        "                    ('xgb', xgb.XGBClassifier(**first, eval_metric='mlogloss'))]\n",
        "    )\n",
        "    scores.append(roc_auc_score(y_test, pipe_xgboost_.fit(X_train, y_train).predict(X_test)))"
      ],
      "metadata": {
        "id": "ReLIdO9avqb5"
      },
      "execution_count": null,
      "outputs": []
    },
    {
      "cell_type": "markdown",
      "source": [
        "# Лучшая модель показала хорошие показатели как на train(0.82) так и на test(0.72)"
      ],
      "metadata": {
        "id": "eqIBJqw9GNic"
      }
    },
    {
      "cell_type": "code",
      "source": [
        "best_estimators[0]"
      ],
      "metadata": {
        "colab": {
          "base_uri": "https://localhost:8080/"
        },
        "id": "2N1bBInpEPHH",
        "outputId": "50d3b5d0-7f6e-4f82-936d-8db08f5b2bc1"
      },
      "execution_count": 284,
      "outputs": [
        {
          "output_type": "execute_result",
          "data": {
            "text/plain": [
              "{'colsample_bylevel': 1.0,\n",
              " 'colsample_bytree': 0.5399999999999998,\n",
              " 'gamma': 7.545,\n",
              " 'learning_rate': 0.2675,\n",
              " 'max_depth': 10,\n",
              " 'min_child_weight': 0.2071,\n",
              " 'subsample': 0.99}"
            ]
          },
          "metadata": {},
          "execution_count": 284
        }
      ]
    },
    {
      "cell_type": "code",
      "source": [
        "pipe_xgboost_ = Pipeline([\n",
        "                    ('special', Special_value(-10000000)),\n",
        "                    ('xgb', xgb.XGBClassifier(**best_estimators[0], eval_metric='mlogloss'))]\n",
        ")"
      ],
      "metadata": {
        "id": "uN7EIFo9EUD7"
      },
      "execution_count": 286,
      "outputs": []
    },
    {
      "cell_type": "code",
      "source": [
        "roc_auc_score(y_test, pipe_xgboost_.fit(X_train, y_train).predict(X_test))"
      ],
      "metadata": {
        "id": "GSvpcLbCEUGk",
        "colab": {
          "base_uri": "https://localhost:8080/"
        },
        "outputId": "a3409f3e-39ac-4617-e422-77c7721cfd81"
      },
      "execution_count": 287,
      "outputs": [
        {
          "output_type": "execute_result",
          "data": {
            "text/plain": [
              "0.7267080745341614"
            ]
          },
          "metadata": {},
          "execution_count": 287
        }
      ]
    },
    {
      "cell_type": "code",
      "source": [
        ""
      ],
      "metadata": {
        "id": "jA4dV3rUEUQK"
      },
      "execution_count": null,
      "outputs": []
    },
    {
      "cell_type": "markdown",
      "source": [
        "# Перебор гиперпараметров Логистической регрессии "
      ],
      "metadata": {
        "id": "g9WAgISPeUQj"
      }
    },
    {
      "cell_type": "code",
      "source": [
        "pipe_lr = Pipeline([\n",
        "              ('special', Special_value(-10000000)),\n",
        "              ('logr', LogisticRegression())]\n",
        "            )"
      ],
      "metadata": {
        "id": "YgCtukuqEUTg"
      },
      "execution_count": null,
      "outputs": []
    },
    {
      "cell_type": "code",
      "source": [
        "X_tr = X_train.to_numpy()\n",
        "y_tr = y_train.to_numpy()\n",
        "\n",
        "param_grid = {\n",
        "    \"logr__C\" : [i / 100 for i in range(5, 100, 5)],\n",
        "    \"logr__random_state\" : [42, 67, 13, 666, 17, 21]\n",
        "}\n",
        "clf = GridSearchCV(pipe_lr, param_grid, cv = 10, scoring = 'roc_auc', verbose=3, return_train_score=True).fit(X_tr, y_tr)"
      ],
      "metadata": {
        "id": "2OOcvHunbXb1"
      },
      "execution_count": null,
      "outputs": []
    },
    {
      "cell_type": "code",
      "source": [
        "pd.Series(clf.cv_results_['mean_test_score']).hist(bins = 40)\n",
        "results = pd.DataFrame(clf.cv_results_)\n",
        "results.sort_values(by='rank_test_score', inplace=True)\n",
        "results.to_csv(\"results.csv\")\n",
        "results.iloc[0:10, :].loc[:, ['param_logr__C', 'param_logr__random_state', 'mean_test_score']]"
      ],
      "metadata": {
        "colab": {
          "base_uri": "https://localhost:8080/",
          "height": 595
        },
        "id": "0P9L0YsZh9wm",
        "outputId": "83b90092-a3fe-4c56-f52f-f9a45822779e"
      },
      "execution_count": null,
      "outputs": [
        {
          "output_type": "execute_result",
          "data": {
            "text/html": [
              "\n",
              "  <div id=\"df-c79faade-7b1d-430e-87bf-949c305bb59e\">\n",
              "    <div class=\"colab-df-container\">\n",
              "      <div>\n",
              "<style scoped>\n",
              "    .dataframe tbody tr th:only-of-type {\n",
              "        vertical-align: middle;\n",
              "    }\n",
              "\n",
              "    .dataframe tbody tr th {\n",
              "        vertical-align: top;\n",
              "    }\n",
              "\n",
              "    .dataframe thead th {\n",
              "        text-align: right;\n",
              "    }\n",
              "</style>\n",
              "<table border=\"1\" class=\"dataframe\">\n",
              "  <thead>\n",
              "    <tr style=\"text-align: right;\">\n",
              "      <th></th>\n",
              "      <th>param_logr__C</th>\n",
              "      <th>param_logr__random_state</th>\n",
              "      <th>mean_test_score</th>\n",
              "    </tr>\n",
              "  </thead>\n",
              "  <tbody>\n",
              "    <tr>\n",
              "      <th>0</th>\n",
              "      <td>0.05</td>\n",
              "      <td>42</td>\n",
              "      <td>0.756667</td>\n",
              "    </tr>\n",
              "    <tr>\n",
              "      <th>82</th>\n",
              "      <td>0.7</td>\n",
              "      <td>17</td>\n",
              "      <td>0.756667</td>\n",
              "    </tr>\n",
              "    <tr>\n",
              "      <th>81</th>\n",
              "      <td>0.7</td>\n",
              "      <td>666</td>\n",
              "      <td>0.756667</td>\n",
              "    </tr>\n",
              "    <tr>\n",
              "      <th>80</th>\n",
              "      <td>0.7</td>\n",
              "      <td>13</td>\n",
              "      <td>0.756667</td>\n",
              "    </tr>\n",
              "    <tr>\n",
              "      <th>79</th>\n",
              "      <td>0.7</td>\n",
              "      <td>67</td>\n",
              "      <td>0.756667</td>\n",
              "    </tr>\n",
              "    <tr>\n",
              "      <th>78</th>\n",
              "      <td>0.7</td>\n",
              "      <td>42</td>\n",
              "      <td>0.756667</td>\n",
              "    </tr>\n",
              "    <tr>\n",
              "      <th>77</th>\n",
              "      <td>0.65</td>\n",
              "      <td>21</td>\n",
              "      <td>0.756667</td>\n",
              "    </tr>\n",
              "    <tr>\n",
              "      <th>76</th>\n",
              "      <td>0.65</td>\n",
              "      <td>17</td>\n",
              "      <td>0.756667</td>\n",
              "    </tr>\n",
              "    <tr>\n",
              "      <th>75</th>\n",
              "      <td>0.65</td>\n",
              "      <td>666</td>\n",
              "      <td>0.756667</td>\n",
              "    </tr>\n",
              "    <tr>\n",
              "      <th>74</th>\n",
              "      <td>0.65</td>\n",
              "      <td>13</td>\n",
              "      <td>0.756667</td>\n",
              "    </tr>\n",
              "  </tbody>\n",
              "</table>\n",
              "</div>\n",
              "      <button class=\"colab-df-convert\" onclick=\"convertToInteractive('df-c79faade-7b1d-430e-87bf-949c305bb59e')\"\n",
              "              title=\"Convert this dataframe to an interactive table.\"\n",
              "              style=\"display:none;\">\n",
              "        \n",
              "  <svg xmlns=\"http://www.w3.org/2000/svg\" height=\"24px\"viewBox=\"0 0 24 24\"\n",
              "       width=\"24px\">\n",
              "    <path d=\"M0 0h24v24H0V0z\" fill=\"none\"/>\n",
              "    <path d=\"M18.56 5.44l.94 2.06.94-2.06 2.06-.94-2.06-.94-.94-2.06-.94 2.06-2.06.94zm-11 1L8.5 8.5l.94-2.06 2.06-.94-2.06-.94L8.5 2.5l-.94 2.06-2.06.94zm10 10l.94 2.06.94-2.06 2.06-.94-2.06-.94-.94-2.06-.94 2.06-2.06.94z\"/><path d=\"M17.41 7.96l-1.37-1.37c-.4-.4-.92-.59-1.43-.59-.52 0-1.04.2-1.43.59L10.3 9.45l-7.72 7.72c-.78.78-.78 2.05 0 2.83L4 21.41c.39.39.9.59 1.41.59.51 0 1.02-.2 1.41-.59l7.78-7.78 2.81-2.81c.8-.78.8-2.07 0-2.86zM5.41 20L4 18.59l7.72-7.72 1.47 1.35L5.41 20z\"/>\n",
              "  </svg>\n",
              "      </button>\n",
              "      \n",
              "  <style>\n",
              "    .colab-df-container {\n",
              "      display:flex;\n",
              "      flex-wrap:wrap;\n",
              "      gap: 12px;\n",
              "    }\n",
              "\n",
              "    .colab-df-convert {\n",
              "      background-color: #E8F0FE;\n",
              "      border: none;\n",
              "      border-radius: 50%;\n",
              "      cursor: pointer;\n",
              "      display: none;\n",
              "      fill: #1967D2;\n",
              "      height: 32px;\n",
              "      padding: 0 0 0 0;\n",
              "      width: 32px;\n",
              "    }\n",
              "\n",
              "    .colab-df-convert:hover {\n",
              "      background-color: #E2EBFA;\n",
              "      box-shadow: 0px 1px 2px rgba(60, 64, 67, 0.3), 0px 1px 3px 1px rgba(60, 64, 67, 0.15);\n",
              "      fill: #174EA6;\n",
              "    }\n",
              "\n",
              "    [theme=dark] .colab-df-convert {\n",
              "      background-color: #3B4455;\n",
              "      fill: #D2E3FC;\n",
              "    }\n",
              "\n",
              "    [theme=dark] .colab-df-convert:hover {\n",
              "      background-color: #434B5C;\n",
              "      box-shadow: 0px 1px 3px 1px rgba(0, 0, 0, 0.15);\n",
              "      filter: drop-shadow(0px 1px 2px rgba(0, 0, 0, 0.3));\n",
              "      fill: #FFFFFF;\n",
              "    }\n",
              "  </style>\n",
              "\n",
              "      <script>\n",
              "        const buttonEl =\n",
              "          document.querySelector('#df-c79faade-7b1d-430e-87bf-949c305bb59e button.colab-df-convert');\n",
              "        buttonEl.style.display =\n",
              "          google.colab.kernel.accessAllowed ? 'block' : 'none';\n",
              "\n",
              "        async function convertToInteractive(key) {\n",
              "          const element = document.querySelector('#df-c79faade-7b1d-430e-87bf-949c305bb59e');\n",
              "          const dataTable =\n",
              "            await google.colab.kernel.invokeFunction('convertToInteractive',\n",
              "                                                     [key], {});\n",
              "          if (!dataTable) return;\n",
              "\n",
              "          const docLinkHtml = 'Like what you see? Visit the ' +\n",
              "            '<a target=\"_blank\" href=https://colab.research.google.com/notebooks/data_table.ipynb>data table notebook</a>'\n",
              "            + ' to learn more about interactive tables.';\n",
              "          element.innerHTML = '';\n",
              "          dataTable['output_type'] = 'display_data';\n",
              "          await google.colab.output.renderOutput(dataTable, element);\n",
              "          const docLink = document.createElement('div');\n",
              "          docLink.innerHTML = docLinkHtml;\n",
              "          element.appendChild(docLink);\n",
              "        }\n",
              "      </script>\n",
              "    </div>\n",
              "  </div>\n",
              "  "
            ],
            "text/plain": [
              "   param_logr__C param_logr__random_state  mean_test_score\n",
              "0           0.05                       42         0.756667\n",
              "82           0.7                       17         0.756667\n",
              "81           0.7                      666         0.756667\n",
              "80           0.7                       13         0.756667\n",
              "79           0.7                       67         0.756667\n",
              "78           0.7                       42         0.756667\n",
              "77          0.65                       21         0.756667\n",
              "76          0.65                       17         0.756667\n",
              "75          0.65                      666         0.756667\n",
              "74          0.65                       13         0.756667"
            ]
          },
          "metadata": {},
          "execution_count": 197
        },
        {
          "output_type": "display_data",
          "data": {
            "image/png": "[encoded data removed]",
            "text/plain": [
              "<Figure size 432x288 with 1 Axes>"
            ]
          },
          "metadata": {
            "needs_background": "light"
          }
        }
      ]
    },
    {
      "cell_type": "markdown",
      "source": [
        "# Так как логистическая регрессия является частным случаем нейронной сети, с той же функцией активации, то можно попробовать её в виде модели"
      ],
      "metadata": {
        "id": "B9-OrLBVeZze"
      }
    },
    {
      "cell_type": "code",
      "source": [
        "pipe_nr = Pipeline([\n",
        "              ('special', Special_value(-1000)),\n",
        "              ('nr', MLPClassifier((100, 100), alpha=1, max_iter=1000, random_state = 67))]\n",
        "            )"
      ],
      "metadata": {
        "id": "gj2tDHaeIc2z"
      },
      "execution_count": null,
      "outputs": []
    },
    {
      "cell_type": "code",
      "source": [
        "for i in Imputers:\n",
        "    parameters = {}\n",
        "    if i[0] == 'knn':\n",
        "        parameters = {\"knn__n_neighbors\" : [2, 3, 4, 5]}\n",
        "    if i[0] == 'special':\n",
        "        parameters = {\"special__special_value\" : [0, -1, -1000, 1000, 10000000, -10000000]}\n",
        "    if i[0] == 'zet':\n",
        "        parameters = {\"zet__competent_row_num\" : [4, 5 ,6], \"zet__competent_col_num\" : [4, 5, 6]}\n",
        "    pipe_nr = Pipeline([\n",
        "              i,\n",
        "              ('nr', MLPClassifier((100, 100), alpha=1, max_iter=1000, random_state = 67))]\n",
        "            )\n",
        "    print(\"nr\", i[0])\n",
        "    clf = GridSearchCV(pipe_nr, parameters, cv = 3, scoring = 'roc_auc').fit(X_train.to_numpy(), y_train.to_numpy())\n",
        "    print(clf.cv_results_['mean_test_score'])"
      ],
      "metadata": {
        "colab": {
          "base_uri": "https://localhost:8080/"
        },
        "id": "9DftFHHpIc5X",
        "outputId": "4c8ba301-aadd-4f3e-dde0-26d597313e8d"
      },
      "execution_count": null,
      "outputs": [
        {
          "output_type": "stream",
          "name": "stdout",
          "text": [
            "nr special\n",
            "[0.46609907 0.50629515 0.72141383 0.69742002 0.6501548  0.60263158]\n",
            "nr common\n",
            "[0.4129515]\n",
            "nr mean\n",
            "[0.43441692]\n",
            "nr svd\n",
            "[0.45294118]\n",
            "nr knn\n",
            "[0.44427245 0.44566563 0.44478844 0.44009288]\n",
            "nr rf\n",
            "[0.4380289]\n",
            "nr lr\n",
            "[0.41031992]\n",
            "nr em\n",
            "[0.42352941]\n",
            "nr k-means\n",
            "[0.42827657]\n"
          ]
        }
      ]
    },
    {
      "cell_type": "markdown",
      "source": [
        "# Лучшей заменой пропусков для сети стала - замена специальным значением( -1000)"
      ],
      "metadata": {
        "id": "094bddhmfpTx"
      }
    },
    {
      "cell_type": "markdown",
      "source": [
        "# Перебор гиперпараметров сети"
      ],
      "metadata": {
        "id": "UJjDp5N_gNF4"
      }
    },
    {
      "cell_type": "code",
      "source": [
        "pipe_nr = Pipeline([\n",
        "              ('special', Special_value(-1000)),\n",
        "              ('nr', MLPClassifier())]\n",
        "            )"
      ],
      "metadata": {
        "id": "-gQxH3RYiVIt"
      },
      "execution_count": null,
      "outputs": []
    },
    {
      "cell_type": "code",
      "source": [
        "hidden_layer_sizes = []\n",
        "for i in [30, 45, 60, 75, 90, 105, 120]:\n",
        "    for j in [30, 45, 60, 75, 90, 105, 120]:\n",
        "        hidden_layer_sizes.append((i, j))"
      ],
      "metadata": {
        "id": "RUGB3qom-HHx"
      },
      "execution_count": null,
      "outputs": []
    },
    {
      "cell_type": "code",
      "source": [
        "X_tr = X_train.to_numpy()\n",
        "y_tr = y_train.to_numpy()\n",
        "\n",
        "parameters = {\n",
        "    'nr__max_iter': [1000], \n",
        "    'nr__hidden_layer_sizes':hidden_layer_sizes,\n",
        "    'nr__random_state':[42, 67, 13, 666, 17, 21]\n",
        "  }\n",
        "clf = GridSearchCV(pipe_nr, parameters, cv = 10, scoring = 'roc_auc', verbose=10, return_train_score=True).fit(X_tr, y_tr)"
      ],
      "metadata": {
        "id": "qwPN74_YbUjM"
      },
      "execution_count": null,
      "outputs": []
    },
    {
      "cell_type": "code",
      "source": [
        "pd.Series(clf.cv_results_['mean_test_score']).hist(bins = 25)\n",
        "results = pd.DataFrame(clf.cv_results_)\n",
        "results.sort_values(by='rank_test_score', inplace=True)\n",
        "results.to_csv(\"results.csv\")\n",
        "results.iloc[0:10, :].loc[:, ['param_nr__hidden_layer_sizes', 'param_nr__max_iter', 'param_nr__random_state', 'mean_test_score']]"
      ],
      "metadata": {
        "colab": {
          "base_uri": "https://localhost:8080/",
          "height": 595
        },
        "id": "Hlb1LJRFe0O-",
        "outputId": "572c08fc-2635-4e58-f5d0-ee979b4a7945"
      },
      "execution_count": null,
      "outputs": [
        {
          "output_type": "execute_result",
          "data": {
            "text/html": [
              "\n",
              "  <div id=\"df-4d812790-4c91-418c-97c4-cf74f1ae8330\">\n",
              "    <div class=\"colab-df-container\">\n",
              "      <div>\n",
              "<style scoped>\n",
              "    .dataframe tbody tr th:only-of-type {\n",
              "        vertical-align: middle;\n",
              "    }\n",
              "\n",
              "    .dataframe tbody tr th {\n",
              "        vertical-align: top;\n",
              "    }\n",
              "\n",
              "    .dataframe thead th {\n",
              "        text-align: right;\n",
              "    }\n",
              "</style>\n",
              "<table border=\"1\" class=\"dataframe\">\n",
              "  <thead>\n",
              "    <tr style=\"text-align: right;\">\n",
              "      <th></th>\n",
              "      <th>param_nr__hidden_layer_sizes</th>\n",
              "      <th>param_nr__max_iter</th>\n",
              "      <th>param_nr__random_state</th>\n",
              "      <th>mean_test_score</th>\n",
              "    </tr>\n",
              "  </thead>\n",
              "  <tbody>\n",
              "    <tr>\n",
              "      <th>120</th>\n",
              "      <td>(60, 120)</td>\n",
              "      <td>1000</td>\n",
              "      <td>42</td>\n",
              "      <td>0.795000</td>\n",
              "    </tr>\n",
              "    <tr>\n",
              "      <th>103</th>\n",
              "      <td>(60, 75)</td>\n",
              "      <td>1000</td>\n",
              "      <td>67</td>\n",
              "      <td>0.793333</td>\n",
              "    </tr>\n",
              "    <tr>\n",
              "      <th>206</th>\n",
              "      <td>(90, 120)</td>\n",
              "      <td>1000</td>\n",
              "      <td>13</td>\n",
              "      <td>0.790000</td>\n",
              "    </tr>\n",
              "    <tr>\n",
              "      <th>267</th>\n",
              "      <td>(120, 60)</td>\n",
              "      <td>1000</td>\n",
              "      <td>666</td>\n",
              "      <td>0.790000</td>\n",
              "    </tr>\n",
              "    <tr>\n",
              "      <th>290</th>\n",
              "      <td>(120, 120)</td>\n",
              "      <td>1000</td>\n",
              "      <td>13</td>\n",
              "      <td>0.790000</td>\n",
              "    </tr>\n",
              "    <tr>\n",
              "      <th>127</th>\n",
              "      <td>(75, 30)</td>\n",
              "      <td>1000</td>\n",
              "      <td>67</td>\n",
              "      <td>0.786667</td>\n",
              "    </tr>\n",
              "    <tr>\n",
              "      <th>28</th>\n",
              "      <td>(30, 90)</td>\n",
              "      <td>1000</td>\n",
              "      <td>17</td>\n",
              "      <td>0.783333</td>\n",
              "    </tr>\n",
              "    <tr>\n",
              "      <th>273</th>\n",
              "      <td>(120, 75)</td>\n",
              "      <td>1000</td>\n",
              "      <td>666</td>\n",
              "      <td>0.780000</td>\n",
              "    </tr>\n",
              "    <tr>\n",
              "      <th>200</th>\n",
              "      <td>(90, 105)</td>\n",
              "      <td>1000</td>\n",
              "      <td>13</td>\n",
              "      <td>0.780000</td>\n",
              "    </tr>\n",
              "    <tr>\n",
              "      <th>167</th>\n",
              "      <td>(75, 120)</td>\n",
              "      <td>1000</td>\n",
              "      <td>21</td>\n",
              "      <td>0.778333</td>\n",
              "    </tr>\n",
              "  </tbody>\n",
              "</table>\n",
              "</div>\n",
              "      <button class=\"colab-df-convert\" onclick=\"convertToInteractive('df-4d812790-4c91-418c-97c4-cf74f1ae8330')\"\n",
              "              title=\"Convert this dataframe to an interactive table.\"\n",
              "              style=\"display:none;\">\n",
              "        \n",
              "  <svg xmlns=\"http://www.w3.org/2000/svg\" height=\"24px\"viewBox=\"0 0 24 24\"\n",
              "       width=\"24px\">\n",
              "    <path d=\"M0 0h24v24H0V0z\" fill=\"none\"/>\n",
              "    <path d=\"M18.56 5.44l.94 2.06.94-2.06 2.06-.94-2.06-.94-.94-2.06-.94 2.06-2.06.94zm-11 1L8.5 8.5l.94-2.06 2.06-.94-2.06-.94L8.5 2.5l-.94 2.06-2.06.94zm10 10l.94 2.06.94-2.06 2.06-.94-2.06-.94-.94-2.06-.94 2.06-2.06.94z\"/><path d=\"M17.41 7.96l-1.37-1.37c-.4-.4-.92-.59-1.43-.59-.52 0-1.04.2-1.43.59L10.3 9.45l-7.72 7.72c-.78.78-.78 2.05 0 2.83L4 21.41c.39.39.9.59 1.41.59.51 0 1.02-.2 1.41-.59l7.78-7.78 2.81-2.81c.8-.78.8-2.07 0-2.86zM5.41 20L4 18.59l7.72-7.72 1.47 1.35L5.41 20z\"/>\n",
              "  </svg>\n",
              "      </button>\n",
              "      \n",
              "  <style>\n",
              "    .colab-df-container {\n",
              "      display:flex;\n",
              "      flex-wrap:wrap;\n",
              "      gap: 12px;\n",
              "    }\n",
              "\n",
              "    .colab-df-convert {\n",
              "      background-color: #E8F0FE;\n",
              "      border: none;\n",
              "      border-radius: 50%;\n",
              "      cursor: pointer;\n",
              "      display: none;\n",
              "      fill: #1967D2;\n",
              "      height: 32px;\n",
              "      padding: 0 0 0 0;\n",
              "      width: 32px;\n",
              "    }\n",
              "\n",
              "    .colab-df-convert:hover {\n",
              "      background-color: #E2EBFA;\n",
              "      box-shadow: 0px 1px 2px rgba(60, 64, 67, 0.3), 0px 1px 3px 1px rgba(60, 64, 67, 0.15);\n",
              "      fill: #174EA6;\n",
              "    }\n",
              "\n",
              "    [theme=dark] .colab-df-convert {\n",
              "      background-color: #3B4455;\n",
              "      fill: #D2E3FC;\n",
              "    }\n",
              "\n",
              "    [theme=dark] .colab-df-convert:hover {\n",
              "      background-color: #434B5C;\n",
              "      box-shadow: 0px 1px 3px 1px rgba(0, 0, 0, 0.15);\n",
              "      filter: drop-shadow(0px 1px 2px rgba(0, 0, 0, 0.3));\n",
              "      fill: #FFFFFF;\n",
              "    }\n",
              "  </style>\n",
              "\n",
              "      <script>\n",
              "        const buttonEl =\n",
              "          document.querySelector('#df-4d812790-4c91-418c-97c4-cf74f1ae8330 button.colab-df-convert');\n",
              "        buttonEl.style.display =\n",
              "          google.colab.kernel.accessAllowed ? 'block' : 'none';\n",
              "\n",
              "        async function convertToInteractive(key) {\n",
              "          const element = document.querySelector('#df-4d812790-4c91-418c-97c4-cf74f1ae8330');\n",
              "          const dataTable =\n",
              "            await google.colab.kernel.invokeFunction('convertToInteractive',\n",
              "                                                     [key], {});\n",
              "          if (!dataTable) return;\n",
              "\n",
              "          const docLinkHtml = 'Like what you see? Visit the ' +\n",
              "            '<a target=\"_blank\" href=https://colab.research.google.com/notebooks/data_table.ipynb>data table notebook</a>'\n",
              "            + ' to learn more about interactive tables.';\n",
              "          element.innerHTML = '';\n",
              "          dataTable['output_type'] = 'display_data';\n",
              "          await google.colab.output.renderOutput(dataTable, element);\n",
              "          const docLink = document.createElement('div');\n",
              "          docLink.innerHTML = docLinkHtml;\n",
              "          element.appendChild(docLink);\n",
              "        }\n",
              "      </script>\n",
              "    </div>\n",
              "  </div>\n",
              "  "
            ],
            "text/plain": [
              "    param_nr__hidden_layer_sizes  ... mean_test_score\n",
              "120                    (60, 120)  ...        0.795000\n",
              "103                     (60, 75)  ...        0.793333\n",
              "206                    (90, 120)  ...        0.790000\n",
              "267                    (120, 60)  ...        0.790000\n",
              "290                   (120, 120)  ...        0.790000\n",
              "127                     (75, 30)  ...        0.786667\n",
              "28                      (30, 90)  ...        0.783333\n",
              "273                    (120, 75)  ...        0.780000\n",
              "200                    (90, 105)  ...        0.780000\n",
              "167                    (75, 120)  ...        0.778333\n",
              "\n",
              "[10 rows x 4 columns]"
            ]
          },
          "metadata": {},
          "execution_count": 144
        },
        {
          "output_type": "display_data",
          "data": {
            "image/png": "[encoded data removed]",
            "text/plain": [
              "<Figure size 432x288 with 1 Axes>"
            ]
          },
          "metadata": {
            "needs_background": "light"
          }
        }
      ]
    },
    {
      "cell_type": "markdown",
      "source": [
        "# Лучший показатель на тестовой выборке дала сеть со слоями (90, 120)\tи random_state = 13"
      ],
      "metadata": {
        "id": "npcDr04Jf3vU"
      }
    },
    {
      "cell_type": "code",
      "source": [
        "pipe_ner = Pipeline(steps=[('special', Special_value(special_value=-1000)),\n",
        "                ('nr',\n",
        "                 MLPClassifier(hidden_layer_sizes=(90, 120), max_iter=1000, random_state=13))])"
      ],
      "metadata": {
        "id": "akoXi67_NZis"
      },
      "execution_count": null,
      "outputs": []
    },
    {
      "cell_type": "code",
      "source": [
        "roc_auc_score(y_test, pipe_ner.fit(X_train, y_train).predict(X_test))"
      ],
      "metadata": {
        "colab": {
          "base_uri": "https://localhost:8080/"
        },
        "id": "Yg_rvrZKNcpb",
        "outputId": "fbca17f2-2070-424d-9e01-1b422082b5de"
      },
      "execution_count": null,
      "outputs": [
        {
          "output_type": "execute_result",
          "data": {
            "text/plain": [
              "0.8555900621118012"
            ]
          },
          "metadata": {},
          "execution_count": 187
        }
      ]
    },
    {
      "cell_type": "markdown",
      "source": [
        "# Мной были получены две модели разной природы.\n",
        "Известно, что если обучить несколько разных алгоритмов, то  в задаче классификации — голосование по большинству, часто превосходят по качеству все эти алгоритмы. Таким образом, можно попробовать объединить показания этих моделей при помощи Stacking."
      ],
      "metadata": {
        "id": "vkXDKlIAJeXM"
      }
    },
    {
      "cell_type": "code",
      "source": [
        "pipe_nr = Pipeline(steps=[('special', Special_value(special_value=-1000)),\n",
        "                ('nr',\n",
        "                 MLPClassifier(hidden_layer_sizes=(90, 120), max_iter=1000, random_state=13))])"
      ],
      "metadata": {
        "id": "qjXfEgwJKWUv"
      },
      "execution_count": 316,
      "outputs": []
    },
    {
      "cell_type": "code",
      "source": [
        "pipe_xgboost = Pipeline([\n",
        "                    ('special', Special_value(-10000000)),\n",
        "                    ('xgb', xgb.XGBClassifier(**best_estimators[0],eval_metric='mlogloss'))])\n"
      ],
      "metadata": {
        "id": "AC_lRezjKq-u"
      },
      "execution_count": 317,
      "outputs": []
    },
    {
      "cell_type": "code",
      "source": [
        "estimators = [\n",
        "    ('xgb', pipe_xgboost),\n",
        "    ('nr', pipe_nr),\n",
        "]"
      ],
      "metadata": {
        "id": "9eg3SF_mJ6QX"
      },
      "execution_count": 318,
      "outputs": []
    },
    {
      "cell_type": "code",
      "source": [
        "clf = StackingClassifier(\n",
        "    estimators=estimators, final_estimator=LogisticRegression(), cv = 5\n",
        ").fit(X_train, y_train)"
      ],
      "metadata": {
        "id": "ciHMbfnsKvu1"
      },
      "execution_count": 319,
      "outputs": []
    },
    {
      "cell_type": "code",
      "source": [
        "roc_auc_score(y_test, clf.predict(X_test))"
      ],
      "metadata": {
        "colab": {
          "base_uri": "https://localhost:8080/"
        },
        "id": "xswlWSFKLJul",
        "outputId": "9b83a5e5-7a3b-4d9e-c4c9-886a7dc4366f"
      },
      "execution_count": 320,
      "outputs": [
        {
          "output_type": "execute_result",
          "data": {
            "text/plain": [
              "0.8913043478260869"
            ]
          },
          "metadata": {},
          "execution_count": 320
        }
      ]
    },
    {
      "cell_type": "markdown",
      "source": [
        "# В итоге Stacking дал прирост на test\n",
        "## Таким образом была получена модель, являющаяся композицией двухслойной сети и леса, с итоговым показателем ROC AUC = 0.8913043478260869"
      ],
      "metadata": {
        "id": "4dREj2EUQzj7"
      }
    },
    {
      "cell_type": "code",
      "source": [
        ""
      ],
      "metadata": {
        "id": "A_NJLd0LVTLz"
      },
      "execution_count": null,
      "outputs": []
    }
  ]
}